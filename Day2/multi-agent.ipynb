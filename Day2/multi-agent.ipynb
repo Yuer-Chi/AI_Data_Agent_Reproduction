{
 "cells": [
  {
   "cell_type": "markdown",
   "id": "86abd280",
   "metadata": {},
   "source": [
    "<h1>Multi-agent"
   ]
  },
  {
   "cell_type": "markdown",
   "id": "cd22fb08",
   "metadata": {},
   "source": [
    "multi-agent可用于处理一些single agent不好处理的问题<br>\n",
    "两种常用的框架：supervisor/swarm<br>\n",
    "supervisor：一个父agent管理几个子agent<br>\n",
    "swarm：多个agent间相互作用互相影响"
   ]
  },
  {
   "cell_type": "markdown",
   "id": "5e483aec",
   "metadata": {},
   "source": [
    "<h1>Supervisor</h1>"
   ]
  },
  {
   "cell_type": "code",
   "execution_count": 1,
   "id": "795b1811",
   "metadata": {},
   "outputs": [],
   "source": [
    "import os\n",
    "from langchain_openai import ChatOpenAI\n",
    "from langchain_core.tools import tool\n",
    "from langgraph.prebuilt import create_react_agent\n",
    "from langgraph_supervisor import create_supervisor"
   ]
  },
  {
   "cell_type": "code",
   "execution_count": 2,
   "id": "6a6665d6",
   "metadata": {},
   "outputs": [],
   "source": [
    "@tool\n",
    "def book_hotel(hotel_name: str):\n",
    "    \"\"\"Book a hotel\"\"\"\n",
    "    return f\"Successfully booked a stay at {hotel_name}.\"\n",
    "@tool\n",
    "def book_flight(from_airport: str, to_airport: str):\n",
    "    \"\"\"Book a flight\"\"\"\n",
    "    return f\"Successfully booked a flight from {from_airport} to {to_airport}.\"\n"
   ]
  },
  {
   "cell_type": "code",
   "execution_count": 12,
   "id": "545e41aa",
   "metadata": {},
   "outputs": [],
   "source": [
    "model = ChatOpenAI(\n",
    "    model=\"gpt-3.5-turbo\", \n",
    "    temperature=0,\n",
    "    openai_api_key=os.getenv(\"OPENAI_API_KEY\"),\n",
    "    base_url=\"https://free.v36.cm/v1\"\n",
    ")"
   ]
  },
  {
   "cell_type": "code",
   "execution_count": 13,
   "id": "94d059b1",
   "metadata": {},
   "outputs": [],
   "source": [
    "#航班预订智能代理\n",
    "flight_assistant = create_react_agent(\n",
    "    model=\"gpt-3.5-turbo\",\n",
    "    tools=[book_flight],\n",
    "    prompt=\"You are a flight booking assistant\",\n",
    "    name=\"flight_assistant\"\n",
    ")\n",
    "#酒店预订智能代理\n",
    "hotel_assistant = create_react_agent(\n",
    "    model=\"gpt-3.5-turbo\",\n",
    "    tools=[book_hotel],\n",
    "    prompt=\"You are a hotel booking assistant\",\n",
    "    name=\"hotel_assistant\"\n",
    ")"
   ]
  },
  {
   "cell_type": "code",
   "execution_count": 14,
   "id": "ade78ce3",
   "metadata": {},
   "outputs": [],
   "source": [
    "#创建主管系统，管理子系统\n",
    "supervisor = create_supervisor(\n",
    "    agents=[flight_assistant, hotel_assistant],\n",
    "    model=ChatOpenAI(\n",
    "    model=\"gpt-3.5-turbo\", \n",
    "    temperature=0,\n",
    "    openai_api_key=os.getenv(\"OPENAI_API_KEY\"),\n",
    "    base_url=\"https://free.v36.cm/v1\"\n",
    "),\n",
    "    prompt=(\n",
    "        \"You manage a hotel booking assistant and a\"\n",
    "        \"flight booking assistant. Assign work to them.\"\n",
    "    )\n",
    ").compile()"
   ]
  },
  {
   "cell_type": "code",
   "execution_count": 17,
   "id": "9affa72b",
   "metadata": {},
   "outputs": [
    {
     "name": "stdout",
     "output_type": "stream",
     "text": [
      "{'supervisor': {'messages': [HumanMessage(content='book a flight from BOS to JFK and a stay at McKittrick Hotel', additional_kwargs={}, response_metadata={}, id='c933fcba-d190-4234-b439-150f510e4223'), AIMessage(content='I will assign the tasks to the respective assistants.\\n\\n**Flight Booking Assistant**: Please book a flight from Boston Logan International Airport (BOS) to John F. Kennedy International Airport (JFK).\\n\\n**Hotel Booking Assistant**: Please arrange a stay at the McKittrick Hotel.\\n\\nIf you have specific dates or preferences for the flight and hotel stay, please provide those details for a more accurate booking.', additional_kwargs={'refusal': None}, response_metadata={'token_usage': {'completion_tokens': 80, 'prompt_tokens': 34, 'total_tokens': 114, 'completion_tokens_details': None, 'prompt_tokens_details': None}, 'model_name': 'gpt-3.5-turbo', 'system_fingerprint': 'fp_f9f5a388757c', 'id': 'chatcmpl-88cdf14d-15f7-4618-bcc6-722094b3f119', 'service_tier': None, 'finish_reason': 'stop', 'logprobs': None}, name='supervisor', id='run--5e753a77-d60a-47b7-8ebc-4bcf40eee208-0', usage_metadata={'input_tokens': 34, 'output_tokens': 80, 'total_tokens': 114, 'input_token_details': {}, 'output_token_details': {}})]}}\n",
      "\n",
      "\n"
     ]
    }
   ],
   "source": [
    "for chunk in supervisor.stream(\n",
    "    {\n",
    "        \"messages\": [\n",
    "            {\n",
    "                \"role\": \"user\",\n",
    "                \"content\": \"book a flight from BOS to JFK and a stay at McKittrick Hotel\"\n",
    "            }\n",
    "        ]\n",
    "    }\n",
    "):\n",
    "    print(chunk)\n",
    "    print(\"\\n\")"
   ]
  },
  {
   "cell_type": "markdown",
   "id": "f1025315",
   "metadata": {},
   "source": [
    "可以看出正常调用了llm但设定的tools又被忽略了，怎么会事呢"
   ]
  },
  {
   "cell_type": "markdown",
   "id": "66bde541",
   "metadata": {},
   "source": [
    "<h1>Swarm</h1>"
   ]
  },
  {
   "cell_type": "code",
   "execution_count": 26,
   "id": "cbf05bf6",
   "metadata": {},
   "outputs": [],
   "source": [
    "from langgraph.prebuilt import create_react_agent\n",
    "from langgraph_swarm import create_swarm, create_handoff_tool"
   ]
  },
  {
   "cell_type": "code",
   "execution_count": 27,
   "id": "eb655916",
   "metadata": {},
   "outputs": [],
   "source": [
    "transfer_to_hotel_assistant = create_handoff_tool(\n",
    "    agent_name=\"hotel_assistant\",\n",
    "    description=\"Transfer user to the hotel-booking assistant.\",\n",
    ")\n",
    "transfer_to_flight_assistant = create_handoff_tool(\n",
    "    agent_name=\"flight_assistant\",\n",
    "    description=\"Transfer user to the flight-booking assistant.\",\n",
    ")"
   ]
  },
  {
   "cell_type": "code",
   "execution_count": 31,
   "id": "b667d05f",
   "metadata": {},
   "outputs": [],
   "source": [
    "flight_assistant = create_react_agent(\n",
    "    model=model,\n",
    "    tools=[book_flight, transfer_to_hotel_assistant],\n",
    "    prompt=\"You are a flight booking assistant\",\n",
    "    name=\"flight_assistant\"\n",
    ")\n",
    "hotel_assistant = create_react_agent(\n",
    "    model=model,\n",
    "    tools=[book_hotel, transfer_to_flight_assistant],\n",
    "    prompt=\"You are a hotel booking assistant\",\n",
    "    name=\"hotel_assistant\"\n",
    ")\n"
   ]
  },
  {
   "cell_type": "code",
   "execution_count": 32,
   "id": "5e77a1db",
   "metadata": {},
   "outputs": [],
   "source": [
    "swarm = create_swarm(\n",
    "    agents=[flight_assistant, hotel_assistant],\n",
    "    default_active_agent=\"flight_assistant\"\n",
    ").compile()"
   ]
  },
  {
   "cell_type": "code",
   "execution_count": 33,
   "id": "392ce56f",
   "metadata": {},
   "outputs": [
    {
     "name": "stdout",
     "output_type": "stream",
     "text": [
      "{'flight_assistant': {'messages': [HumanMessage(content='book a flight from BOS to JFK and a stay at McKittrick Hotel', additional_kwargs={}, response_metadata={}, id='7f78358a-621a-4b48-9206-c916787fd919'), AIMessage(content=\"I’m unable to book flights or accommodations directly. However, I can guide you on how to do it.\\n\\n### Booking a Flight from Boston Logan International Airport (BOS) to John F. Kennedy International Airport (JFK):\\n\\n1. **Visit a Flight Booking Website**: Go to popular travel sites like Expedia, Kayak, Google Flights, or the airline's website directly (e.g., Delta, JetBlue).\\n  \\n2. **Enter Your Travel Details**:\\n   - Departure: BOS\\n   - Arrival: JFK\\n   - Select your travel dates.\\n   - Choose the number of passengers.\\n\\n3. **Search for Flights**: Click on the search button to view available flights.\\n\\n4. **Select Your Flight**: Review the options and select the flight that best fits your schedule and budget.\\n\\n5. **Provide Passenger Information**: Enter the required passenger details.\\n\\n6. **Payment**: Complete the payment process to finalize your flight booking.\\n\\n### Booking a Stay at McKittrick Hotel:\\n\\n1. **Visit the Hotel's Website**: Go to the official website of the McKittrick Hotel or use a hotel booking platform like Booking.com or Hotels.com.\\n\\n2. **Enter Your Stay Details**:\\n   - Check-in and check-out dates.\\n   - Number of guests.\\n\\n3. **Search for Availability**: Click on the search button to see available rooms.\\n\\n4. **Select Your Room**: Choose the room type that suits your needs.\\n\\n5. **Provide Guest Information**: Enter the required information for the reservation.\\n\\n6. **Payment**: Complete the payment process to finalize your hotel booking.\\n\\n### Additional Tips:\\n- **Check Cancellation Policies**: Be aware of the cancellation policies for both flights and hotel stays.\\n- **Look for Deals**: Sometimes, booking sites offer discounts or package deals for flights and hotels.\\n\\nIf you need further assistance or specific recommendations, feel free to ask!\", additional_kwargs={'refusal': None}, response_metadata={'token_usage': {'completion_tokens': 383, 'prompt_tokens': 23, 'total_tokens': 406, 'completion_tokens_details': None, 'prompt_tokens_details': None}, 'model_name': 'gpt-3.5-turbo', 'system_fingerprint': 'fp_7b8216756c9b', 'id': 'chatcmpl-0d0146cd-16ba-49e7-a6c1-9fb09fbedc96', 'service_tier': None, 'finish_reason': 'stop', 'logprobs': None}, name='flight_assistant', id='run--077c410a-0767-4409-81ba-ad9170b736c5-0', usage_metadata={'input_tokens': 23, 'output_tokens': 383, 'total_tokens': 406, 'input_token_details': {}, 'output_token_details': {}})]}}\n",
      "\n",
      "\n"
     ]
    }
   ],
   "source": [
    "for chunk in swarm.stream(\n",
    "    {\n",
    "        \"messages\": [\n",
    "            {\n",
    "                \"role\": \"user\",\n",
    "                \"content\": \"book a flight from BOS to JFK and a stay at McKittrick Hotel\"\n",
    "            }\n",
    "        ]\n",
    "    }\n",
    "):\n",
    "    print(chunk)\n",
    "    print(\"\\n\")"
   ]
  },
  {
   "cell_type": "markdown",
   "id": "4c3ae8a0",
   "metadata": {},
   "source": [
    "<h1>Handoffs</h1><br>\n",
    "可将智能体控制权转交为另一个智能体"
   ]
  },
  {
   "cell_type": "code",
   "execution_count": 34,
   "id": "38da6551",
   "metadata": {},
   "outputs": [],
   "source": [
    "from typing import Annotated\n",
    "from langchain_core.tools import tool, InjectedToolCallId\n",
    "from langgraph.prebuilt import create_react_agent, InjectedState\n",
    "from langgraph.graph import StateGraph, START, MessagesState\n",
    "from langgraph.types import Command"
   ]
  },
  {
   "cell_type": "code",
   "execution_count": null,
   "id": "3b97c6ea",
   "metadata": {},
   "outputs": [],
   "source": [
    "def create_handoff_tool(*, agent_name: str, description: str | None = None):\n",
    "    # *强制使用关键词参数\n",
    "    name = f\"transfer_to_{agent_name}\"  ##f表示格式化字符，等于name = \"transfer_to_{}\".format(agent_name)\n",
    "    description = description or f\"Transfer to {agent_name}\"\n",
    "\n",
    "    @tool(name, description=description)\n",
    "    def handoff_tool(\n",
    "        state: Annotated[MessagesState, InjectedState],   #Annotated用于添加额外的标注信息\n",
    "        tool_call_id: Annotated[str, InjectedToolCallId],\n",
    "    ) -> Command:\n",
    "        tool_message = {\n",
    "            \"role\": \"tool\",\n",
    "            \"content\": f\"Successfully transferred to {agent_name}\",\n",
    "            \"name\": name,\n",
    "            \"tool_call_id\": tool_call_id,\n",
    "        }\n",
    "        return Command(  \n",
    "            goto=agent_name,  \n",
    "            update={\"messages\": state[\"messages\"] + [tool_message]},  \n",
    "            graph=Command.PARENT,  \n",
    "        )\n",
    "    return handoff_tool"
   ]
  },
  {
   "cell_type": "code",
   "execution_count": 36,
   "id": "9d8736d8",
   "metadata": {},
   "outputs": [],
   "source": [
    "transfer_to_hotel_assistant = create_handoff_tool(\n",
    "    agent_name=\"hotel_assistant\",\n",
    "    description=\"Transfer user to the hotel-booking assistant.\",\n",
    ")\n",
    "transfer_to_flight_assistant = create_handoff_tool(\n",
    "    agent_name=\"flight_assistant\",\n",
    "    description=\"Transfer user to the flight-booking assistant.\",\n",
    ")"
   ]
  },
  {
   "cell_type": "code",
   "execution_count": 37,
   "id": "d6729933",
   "metadata": {},
   "outputs": [],
   "source": [
    "def book_hotel(hotel_name: str):\n",
    "    \"\"\"Book a hotel\"\"\"\n",
    "    return f\"Successfully booked a stay at {hotel_name}.\"\n",
    "\n",
    "def book_flight(from_airport: str, to_airport: str):\n",
    "    \"\"\"Book a flight\"\"\"\n",
    "    return f\"Successfully booked a flight from {from_airport} to {to_airport}.\""
   ]
  },
  {
   "cell_type": "code",
   "execution_count": 38,
   "id": "84e3e6c4",
   "metadata": {},
   "outputs": [],
   "source": [
    "flight_assistant = create_react_agent(\n",
    "    model=model,\n",
    "    tools=[book_flight, transfer_to_hotel_assistant],\n",
    "    prompt=\"You are a flight booking assistant\",\n",
    "    name=\"flight_assistant\"\n",
    ")\n",
    "hotel_assistant = create_react_agent(\n",
    "    model=model,\n",
    "    tools=[book_hotel, transfer_to_flight_assistant],\n",
    "    prompt=\"You are a hotel booking assistant\",\n",
    "    name=\"hotel_assistant\"\n",
    ")"
   ]
  },
  {
   "cell_type": "code",
   "execution_count": 42,
   "id": "487d0de7",
   "metadata": {},
   "outputs": [],
   "source": [
    "# Define multi-agent graph\n",
    "multi_agent_graph = (\n",
    "    StateGraph(MessagesState)\n",
    "    .add_node(flight_assistant)\n",
    "    .add_node(hotel_assistant)\n",
    "    .add_edge(START, \"flight_assistant\")\n",
    "    .compile()\n",
    ")"
   ]
  },
  {
   "cell_type": "code",
   "execution_count": 41,
   "id": "e56d1d51",
   "metadata": {},
   "outputs": [
    {
     "name": "stdout",
     "output_type": "stream",
     "text": [
      "{'flight_assistant': {'messages': [HumanMessage(content='book a flight from BOS to JFK and a stay at McKittrick Hotel', additional_kwargs={}, response_metadata={}, id='2a5314d2-8548-4483-be99-c7f8509b5da8'), AIMessage(content='I can’t book flights or accommodations directly, but I can guide you on how to do it. Here’s how you can book a flight from Boston Logan International Airport (BOS) to New York John F. Kennedy International Airport (JFK) and a stay at the McKittrick Hotel:\\n\\n### Step 1: Book Your Flight\\n\\n1. **Visit a Flight Booking Website**: Go to a travel website like Expedia, Kayak, Google Flights, or the airline\\'s website.\\n2. **Enter Your Details**:\\n   - Departure: BOS (Boston Logan International Airport)\\n   - Arrival: JFK (John F. Kennedy International Airport)\\n   - Choose your travel dates and the number of passengers.\\n3. **Search for Flights**: Click on the search button to find available flights.\\n4. **Select a Flight**: Review the options and choose a flight that fits your schedule and budget.\\n5. **Enter Passenger Information**: Fill in the required details for each passenger.\\n6. **Payment**: Complete the payment process to confirm your flight.\\n\\n### Step 2: Book Your Hotel\\n\\n1. **Visit a Hotel Booking Website**: Use sites like Booking.com, Hotels.com, or the hotel’s official website.\\n2. **Search for McKittrick Hotel**:\\n   - Enter \"McKittrick Hotel\" in the search bar and input your check-in and check-out dates.\\n3. **Select Your Room**: Review the available rooms and choose one that suits your needs.\\n4. **Enter Guest Information**: Fill in the necessary details for your stay.\\n5. **Payment**: Complete the booking by entering your payment information.\\n\\n### Additional Tips:\\n- **Check Cancellation Policies**: Make sure to review the cancellation policies for both flights and hotel stays.\\n- **Consider Transportation**: Look into transportation options from JFK to the McKittrick Hotel, which is located in Manhattan.\\n\\nIf you need more specific information or assistance, feel free to ask!', additional_kwargs={'refusal': None}, response_metadata={'token_usage': {'completion_tokens': 399, 'prompt_tokens': 23, 'total_tokens': 422, 'completion_tokens_details': None, 'prompt_tokens_details': None}, 'model_name': 'gpt-3.5-turbo', 'system_fingerprint': 'fp_631e41f3c1bd', 'id': 'chatcmpl-706cd8d6-10bc-4c3f-9476-a55ae4f3090c', 'service_tier': None, 'finish_reason': 'stop', 'logprobs': None}, name='flight_assistant', id='run--f6529099-4c8d-4051-9f9d-56ba34e94a4c-0', usage_metadata={'input_tokens': 23, 'output_tokens': 399, 'total_tokens': 422, 'input_token_details': {}, 'output_token_details': {}})]}}\n",
      "\n",
      "\n"
     ]
    }
   ],
   "source": [
    "# Run the multi-agent graph\n",
    "for chunk in multi_agent_graph.stream(\n",
    "    {\n",
    "        \"messages\": [\n",
    "            {\n",
    "                \"role\": \"user\",\n",
    "                \"content\": \"book a flight from BOS to JFK and a stay at McKittrick Hotel\"\n",
    "            }\n",
    "        ]\n",
    "    }\n",
    "):\n",
    "    print(chunk)\n",
    "    print(\"\\n\")"
   ]
  },
  {
   "cell_type": "code",
   "execution_count": 43,
   "id": "e47f4549",
   "metadata": {},
   "outputs": [],
   "source": [
    "graph_png = multi_agent_graph.get_graph().draw_mermaid_png()\n",
    "with open(\"multi_agent_graph.png\", \"wb\") as f:\n",
    "    f.write(graph_png)"
   ]
  },
  {
   "cell_type": "markdown",
   "id": "6b45e1a7",
   "metadata": {},
   "source": [
    "工作流程：<br>\n",
    "先激活fight_assistant->转移权限到hotel_assistant"
   ]
  }
 ],
 "metadata": {
  "kernelspec": {
   "display_name": "agent",
   "language": "python",
   "name": "python3"
  },
  "language_info": {
   "codemirror_mode": {
    "name": "ipython",
    "version": 3
   },
   "file_extension": ".py",
   "mimetype": "text/x-python",
   "name": "python",
   "nbconvert_exporter": "python",
   "pygments_lexer": "ipython3",
   "version": "3.12.11"
  }
 },
 "nbformat": 4,
 "nbformat_minor": 5
}
