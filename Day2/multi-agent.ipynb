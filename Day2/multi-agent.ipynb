{
 "cells": [
  {
   "cell_type": "markdown",
   "id": "86abd280",
   "metadata": {},
   "source": [
    "<h1>Multi-agent"
   ]
  },
  {
   "cell_type": "markdown",
   "id": "cd22fb08",
   "metadata": {},
   "source": [
    "multi-agent可用于处理一些single agent不好处理的问题<br>\n",
    "两种常用的框架：supervisor/swarm<br>\n",
    "supervisor：一个父agent管理几个子agent<br>\n",
    "swarm：多个agent间相互作用互相影响"
   ]
  },
  {
   "cell_type": "markdown",
   "id": "5e483aec",
   "metadata": {},
   "source": [
    "<h1>Supervisor</h1>"
   ]
  },
  {
   "cell_type": "code",
   "execution_count": 1,
   "id": "795b1811",
   "metadata": {},
   "outputs": [],
   "source": [
    "import os\n",
    "from langchain_openai import ChatOpenAI\n",
    "from langchain_core.tools import tool\n",
    "from langgraph.prebuilt import create_react_agent\n",
    "from langgraph_supervisor import create_supervisor"
   ]
  },
  {
   "cell_type": "code",
   "execution_count": 11,
   "id": "6a6665d6",
   "metadata": {},
   "outputs": [],
   "source": [
    "@tool\n",
    "def book_hotel(hotel_name: str):\n",
    "    \"\"\"Book a hotel\"\"\"\n",
    "    return f\"Successfully booked a stay at {hotel_name}.\"\n",
    "@tool\n",
    "def book_flight(from_airport: str, to_airport: str):\n",
    "    \"\"\"Book a flight\"\"\"\n",
    "    return f\"Successfully booked a flight from {from_airport} to {to_airport}.\"\n"
   ]
  },
  {
   "cell_type": "code",
   "execution_count": 46,
   "id": "545e41aa",
   "metadata": {},
   "outputs": [],
   "source": [
    "model = ChatOpenAI(\n",
    "    model=\"gpt-3.5-turbo\", \n",
    "    temperature=0,\n",
    "    openai_api_key=os.getenv(\"OPENAI_API_KEY\"),\n",
    "    base_url=\"https://free.v36.cm/v1\"\n",
    ")"
   ]
  },
  {
   "cell_type": "code",
   "execution_count": 12,
   "id": "94d059b1",
   "metadata": {},
   "outputs": [],
   "source": [
    "#航班预订智能代理\n",
    "flight_assistant = create_react_agent(\n",
    "    model=\"gpt-3.5-turbo\",\n",
    "    tools=[book_flight],\n",
    "    prompt=\"You are a flight booking assistant\",\n",
    "    name=\"flight_assistant\"\n",
    ")\n",
    "#酒店预订智能代理\n",
    "hotel_assistant = create_react_agent(\n",
    "    model=\"gpt-3.5-turbo\",\n",
    "    tools=[book_hotel],\n",
    "    prompt=\"You are a hotel booking assistant\",\n",
    "    name=\"hotel_assistant\"\n",
    ")"
   ]
  },
  {
   "cell_type": "code",
   "execution_count": 13,
   "id": "ade78ce3",
   "metadata": {},
   "outputs": [],
   "source": [
    "#创建主管系统，管理子系统\n",
    "supervisor = create_supervisor(\n",
    "    agents=[flight_assistant, hotel_assistant],\n",
    "    model=ChatOpenAI(\n",
    "    model=\"gpt-3.5-turbo\", \n",
    "    temperature=0,\n",
    "    openai_api_key=os.getenv(\"OPENAI_API_KEY\"),\n",
    "    base_url=\"https://free.v36.cm/v1\"\n",
    "),\n",
    "    prompt=(\n",
    "        \"You manage a hotel booking assistant and a\"\n",
    "        \"flight booking assistant. Assign work to them.\"\n",
    "    )\n",
    ").compile()"
   ]
  },
  {
   "cell_type": "code",
   "execution_count": null,
   "id": "9affa72b",
   "metadata": {},
   "outputs": [
    {
     "name": "stdout",
     "output_type": "stream",
     "text": [
      "{'supervisor': {'messages': [HumanMessage(content='嘿，我想订一趟旅行！\\n我计划从波士顿飞往纽约，大概是7月15号。就一个人旅行，希望能订个早上的航班，最好能靠窗座位。\\n住宿方面，我看上了麦基特里克酒店。从7月15号住到18号，就一个人。如果能给我安排个非吸烟房间，最好还能是高层房间就太棒了！\\n麻烦帮我确认一下这些行程，谢谢！', additional_kwargs={}, response_metadata={}, id='3f9a9aa6-f5fd-447d-a4d6-7f693939ba8e'), AIMessage(content='好的，我会将您的请求分配给航班预订助手和酒店预订助手。\\n\\n### 航班预订助手：\\n- **出发地**：波士顿\\n- **目的地**：纽约\\n- **出发日期**：7月15号\\n- **乘客人数**：1人\\n- **航班时间**：早上\\n- **座位偏好**：靠窗座位\\n\\n### 酒店预订助手：\\n- **酒店名称**：麦基特里克酒店\\n- **入住日期**：7月15号\\n- **退房日期**：7月18号\\n- **乘客人数**：1人\\n- **房间类型**：非吸烟房间，最好是高层房间\\n\\n我将立即开始处理这些请求，并尽快给您确认信息。请稍等！', additional_kwargs={'refusal': None}, response_metadata={'token_usage': {'completion_tokens': 250, 'prompt_tokens': 194, 'total_tokens': 444, 'completion_tokens_details': None, 'prompt_tokens_details': None}, 'model_name': 'gpt-3.5-turbo', 'system_fingerprint': 'fp_0c321cec1fa7', 'id': 'chatcmpl-482c883f-f54c-4a1b-9196-7a760c94cf3a', 'service_tier': None, 'finish_reason': 'stop', 'logprobs': None}, name='supervisor', id='run--523ca2d8-31f4-4a6f-842d-4ce88d4ddd18-0', usage_metadata={'input_tokens': 194, 'output_tokens': 250, 'total_tokens': 444, 'input_token_details': {}, 'output_token_details': {}})]}}\n",
      "\n",
      "\n"
     ]
    }
   ],
   "source": [
    "try:\n",
    "    for chunk in supervisor.stream(\n",
    "        {\n",
    "            \"messages\": [\n",
    "                {\n",
    "                    \"role\": \"user\",\n",
    "                    \"content\": \"\"\"嘿，我想订一趟旅行！\n",
    "                    我计划从波士顿飞往纽约，大概是7月15号。就一个人旅行，希望能订个早上的航班，最好能靠窗座位。\n",
    "                    住宿方面，我看上了麦基特里克酒店。从7月15号住到18号，就一个人。如果能给我安排个非吸烟房间，最好还能是高层房间就太棒了！\n",
    "                    麻烦帮我确认一下这些行程，谢谢！\"\"\"\n",
    "                }\n",
    "            ]\n",
    "        }\n",
    "    ):\n",
    "        print(chunk)\n",
    "        print(\"\\n\")\n",
    "except Exception as e:\n",
    "    print(f\"An error occurred: {e}\")"
   ]
  },
  {
   "cell_type": "markdown",
   "id": "f1025315",
   "metadata": {},
   "source": [
    "可以看出正常调用了llm但设定的tools又被忽略了，怎么会事呢"
   ]
  },
  {
   "cell_type": "markdown",
   "id": "66bde541",
   "metadata": {},
   "source": [
    "<h1>Swarm</h1>"
   ]
  },
  {
   "cell_type": "code",
   "execution_count": null,
   "id": "cbf05bf6",
   "metadata": {},
   "outputs": [],
   "source": []
  },
  {
   "cell_type": "markdown",
   "id": "4c3ae8a0",
   "metadata": {},
   "source": [
    "<h1>handoffs</h1><br>\n",
    "可将智能体控制权转交为另一个智能体"
   ]
  },
  {
   "cell_type": "code",
   "execution_count": null,
   "id": "38da6551",
   "metadata": {},
   "outputs": [],
   "source": []
  }
 ],
 "metadata": {
  "kernelspec": {
   "display_name": "agent",
   "language": "python",
   "name": "python3"
  },
  "language_info": {
   "codemirror_mode": {
    "name": "ipython",
    "version": 3
   },
   "file_extension": ".py",
   "mimetype": "text/x-python",
   "name": "python",
   "nbconvert_exporter": "python",
   "pygments_lexer": "ipython3",
   "version": "3.12.11"
  }
 },
 "nbformat": 4,
 "nbformat_minor": 5
}
