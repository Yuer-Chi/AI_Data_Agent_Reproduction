{
 "cells": [
  {
   "cell_type": "code",
   "execution_count": 10,
   "id": "cf2b8e87",
   "metadata": {},
   "outputs": [],
   "source": [
    "from typing import Literal\n",
    "from langchain_core.messages import HumanMessage\n",
    "from langchain_core.tools import tool\n",
    "from langchain_openai import ChatOpenAI\n",
    "#导入langgraph检查点，用于持久化状态\n",
    "from langgraph.checkpoint.memory import MemorySaver\n",
    "#导入状态图和状态\n",
    "from langgraph.graph import END, StateGraph, MessagesState\n",
    "#导入工具节点（工具节点：用于调用工具）\n",
    "from langgraph.prebuilt import ToolNode"
   ]
  },
  {
   "cell_type": "markdown",
   "id": "ae80f04f",
   "metadata": {},
   "source": [
    "定义工具函数，用于代理调用外部工具"
   ]
  },
  {
   "cell_type": "code",
   "execution_count": 11,
   "id": "6ac9454d",
   "metadata": {},
   "outputs": [],
   "source": [
    "@tool\n",
    "def search(query:str):\n",
    "    \"模拟一个搜索工具\"\n",
    "    query_lower = query.lower()\n",
    "    if \"北京\" in query_lower or \"beijing\" in query_lower:\n",
    "        return \"天气很好，适合外出旅行！\"\n",
    "    return \"预计有大雨，建议避免外出。\"\n"
   ]
  },
  {
   "cell_type": "code",
   "execution_count": 12,
   "id": "9abfeeba",
   "metadata": {},
   "outputs": [],
   "source": [
    "#将工具函数放入工具列表\n",
    "tools = [search]"
   ]
  },
  {
   "cell_type": "code",
   "execution_count": 13,
   "id": "622190b1",
   "metadata": {},
   "outputs": [],
   "source": [
    "#创建工具节点\n",
    "tool_node = ToolNode(tools)"
   ]
  },
  {
   "cell_type": "code",
   "execution_count": null,
   "id": "cd60248a",
   "metadata": {},
   "outputs": [],
   "source": [
    "#初始化模型和工具，定义模型，并绑定工具到模型\n",
    "#大模型根据任务和工具的匹配情况决定是否调用工具\n",
    "api_key = \"\"\n",
    "base_url = \"\"\n",
    "model = ChatOpenAI(model = \"gpt-3.5-turbo\", temperature = 0,openai_api_key=api_key,base_url=base_url )"
   ]
  },
  {
   "cell_type": "code",
   "execution_count": 15,
   "id": "bed4bf92",
   "metadata": {},
   "outputs": [],
   "source": [
    "def should_continue(state: MessagesState) -> Literal[\"tools\",END]:\n",
    "    message = state[\"messages\"]\n",
    "    last_message = message[-1]\n",
    "    #如果LLM调用了工具，跳转到tools节点\n",
    "    if last_message.tool_calls:\n",
    "        return \"tools\"\n",
    "    #否则，回复用户\n",
    "    return END\n",
    "#state是一个包含对话信息的状态对象"
   ]
  },
  {
   "cell_type": "code",
   "execution_count": 16,
   "id": "25ba0b65",
   "metadata": {},
   "outputs": [],
   "source": [
    "#定义调用大模型函数\n",
    "def call_model(state: MessagesState):\n",
    "    messages = state[\"messages\"]\n",
    "    model_with_tools = model.bind_tools(tools, tool_choice=\"auto\", )\n",
    "    response = model_with_tools.invoke(messages)\n",
    "    print(response.tool_calls)\n",
    "    return {\"messages\": [response]}"
   ]
  },
  {
   "cell_type": "code",
   "execution_count": 17,
   "id": "1f8ff28d",
   "metadata": {},
   "outputs": [],
   "source": [
    "#创建状态传输图\n",
    "workflow = StateGraph(MessagesState)"
   ]
  },
  {
   "cell_type": "markdown",
   "id": "ec1ccb5c",
   "metadata": {},
   "source": [
    "workflow.add_node(\"节点名称\", 节点函数)<br>\n",
    "执行节点时会自动调用节点函数"
   ]
  },
  {
   "cell_type": "code",
   "execution_count": 18,
   "id": "c95c7c57",
   "metadata": {},
   "outputs": [
    {
     "data": {
      "text/plain": [
       "<langgraph.graph.state.StateGraph at 0x7f9fa065ba70>"
      ]
     },
     "execution_count": 18,
     "metadata": {},
     "output_type": "execute_result"
    }
   ],
   "source": [
    "#定义图节点\n",
    "workflow.add_node(\"agent\", call_model)\n",
    "workflow.add_node(\"tools\", tool_node)"
   ]
  },
  {
   "cell_type": "code",
   "execution_count": 19,
   "id": "cf70df5b",
   "metadata": {},
   "outputs": [
    {
     "data": {
      "text/plain": [
       "<langgraph.graph.state.StateGraph at 0x7f9fa065ba70>"
      ]
     },
     "execution_count": 19,
     "metadata": {},
     "output_type": "execute_result"
    }
   ],
   "source": [
    "#设置入口节点为agent\n",
    "workflow.set_entry_point(\"agent\")"
   ]
  },
  {
   "cell_type": "code",
   "execution_count": 20,
   "id": "c363e7a9",
   "metadata": {},
   "outputs": [
    {
     "data": {
      "text/plain": [
       "<langgraph.graph.state.StateGraph at 0x7f9fa065ba70>"
      ]
     },
     "execution_count": 20,
     "metadata": {},
     "output_type": "execute_result"
    }
   ],
   "source": [
    "#设置条件边\n",
    "#条件边是在调用agent节点后再采取的\n",
    "workflow.add_conditional_edges(\n",
    "    \"agent\",\n",
    "    should_continue,\n",
    ")"
   ]
  },
  {
   "cell_type": "markdown",
   "id": "0163f0f4",
   "metadata": {},
   "source": [
    "普通边：workflow.add_edge(\"起始节点\",\"结束节点\")"
   ]
  },
  {
   "cell_type": "code",
   "execution_count": 21,
   "id": "ffa813a3",
   "metadata": {},
   "outputs": [
    {
     "data": {
      "text/plain": [
       "<langgraph.graph.state.StateGraph at 0x7f9fa065ba70>"
      ]
     },
     "execution_count": 21,
     "metadata": {},
     "output_type": "execute_result"
    }
   ],
   "source": [
    "workflow.add_edge(\"tools\",\"agent\")"
   ]
  },
  {
   "cell_type": "code",
   "execution_count": 22,
   "id": "c479e842",
   "metadata": {},
   "outputs": [],
   "source": [
    "#初始化存储持久化状态\n",
    "#也可以存再redis，MongoDB\n",
    "checkpointer = MemorySaver()"
   ]
  },
  {
   "cell_type": "markdown",
   "id": "e6756ad5",
   "metadata": {},
   "source": [
    "编译图<br>\n",
    "将其编译成一个LangChain可运行对象<br>\n",
    "可以起到预检查的作用"
   ]
  },
  {
   "cell_type": "code",
   "execution_count": 23,
   "id": "7c86a1eb",
   "metadata": {},
   "outputs": [],
   "source": [
    "app = workflow.compile(checkpointer=checkpointer)"
   ]
  },
  {
   "cell_type": "markdown",
   "id": "7a607408",
   "metadata": {},
   "source": [
    "执行图，调用可运行对象"
   ]
  },
  {
   "cell_type": "code",
   "execution_count": 24,
   "id": "f1769da1",
   "metadata": {},
   "outputs": [
    {
     "name": "stdout",
     "output_type": "stream",
     "text": [
      "[{'name': 'search', 'args': {'query': '北京今天的天气'}, 'id': 'call_7ZUdLlFYvHr1ZfCZ99SV6TX0', 'type': 'tool_call'}]\n",
      "[]\n",
      "天气很好，适合外出旅行！\n",
      "[]\n",
      "您问的是北京的天气情况。\n"
     ]
    }
   ],
   "source": [
    "final_state = app.invoke(\n",
    "    {\"messages\": [HumanMessage(content=\"北京今天的天气如何？\")]},\n",
    "    config = {\"configurable\": {\"thread_id\": 42}}\n",
    ")\n",
    "\n",
    "result = final_state[\"messages\"][-1].content\n",
    "print(result)\n",
    "\n",
    "final_state = app.invoke(\n",
    "    {\"messages\": [HumanMessage(content=\"我问的哪个城市？\")]},\n",
    "    config = {\"configurable\": {\"thread_id\": 42}}\n",
    ")\n",
    "result = final_state[\"messages\"][-1].content\n",
    "print(result)"
   ]
  },
  {
   "cell_type": "code",
   "execution_count": 25,
   "id": "1d76d2cc",
   "metadata": {},
   "outputs": [],
   "source": [
    "graph_png = app.get_graph().draw_mermaid_png()\n",
    "with open(\"langgraph_base.png\",\"wb\") as f:\n",
    "    f.write(graph_png)"
   ]
  },
  {
   "cell_type": "code",
   "execution_count": null,
   "id": "eab89a88",
   "metadata": {},
   "outputs": [
    {
     "name": "stdout",
     "output_type": "stream",
     "text": [
      "API连接成功，响应： <!doctype html><html lang=\"zh-CN\"><head><meta charset=\"utf-8\"/><link rel=\"icon\" href=\"logo.png\"/><meta name=\"viewport\" content=\"width=device-width,initial-scale=1\"/><meta name=\"theme-color\" content=\"#ffffff\"/><meta name=\"description\" content=\"提供稳定可靠的Openai API转发公益免费的GPT-3.5 API服务。\"/><title>FREE GPT API</title><script defer=\"defer\" src=\"/static/js/main.53db0764.js\"></script><link href=\"/static/css/main.e5f231c8.css\" rel=\"stylesheet\"></head><body><div id=\"root\"></div></body></html>\n"
     ]
    }
   ],
   "source": [
    "#检测API是否可用\n",
    "from openai import OpenAI\n",
    "import os\n",
    "\n",
    "# 明确设置环境变量\n",
    "os.environ['OPENAI_BASE_URL'] = \"\"\n",
    "os.environ['OPENAI_API_KEY'] = \"\"\n",
    "\n",
    "client = OpenAI(\n",
    "    api_key=os.getenv(\"OPENAI_API_KEY\"),  # 添加 api_key 参数\n",
    "    base_url=os.getenv(\"OPENAI_BASE_URL\")\n",
    ")\n",
    "\n",
    "# 测试 API 是否连接成功\n",
    "try:\n",
    "    response = client.chat.completions.create(\n",
    "        model=\"gpt-3.5-turbo\",\n",
    "        messages=[\n",
    "            {\"role\": \"system\", \"content\": \"You are a helpful assistant.\"},\n",
    "            {\"role\": \"user\", \"content\": \"Say hello to the world\"}\n",
    "        ]\n",
    "    )\n",
    "    print(\"API连接成功，响应：\", response)\n",
    "except Exception as e:\n",
    "    print(\"API连接失败，错误信息：\", e)\n"
   ]
  },
  {
   "cell_type": "markdown",
   "id": "ffcb9dd3",
   "metadata": {},
   "source": [
    "调了半天大模型一直不按我预设的输出，仔细检查发现大模型调用了我的tools但觉得这个不合理所以又否掉了<br>\n",
    "根据问题写了一个更合适的答案于是就被大模型认可并输出了，未曾设想的解决方法。"
   ]
  }
 ],
 "metadata": {
  "kernelspec": {
   "display_name": "agent",
   "language": "python",
   "name": "python3"
  },
  "language_info": {
   "codemirror_mode": {
    "name": "ipython",
    "version": 3
   },
   "file_extension": ".py",
   "mimetype": "text/x-python",
   "name": "python",
   "nbconvert_exporter": "python",
   "pygments_lexer": "ipython3",
   "version": "3.12.11"
  }
 },
 "nbformat": 4,
 "nbformat_minor": 5
}
